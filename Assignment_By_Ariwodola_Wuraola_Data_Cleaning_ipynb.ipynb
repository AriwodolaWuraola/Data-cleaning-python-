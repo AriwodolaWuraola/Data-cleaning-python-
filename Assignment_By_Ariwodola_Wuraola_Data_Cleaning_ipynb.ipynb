{
  "nbformat": 4,
  "nbformat_minor": 0,
  "metadata": {
    "colab": {
      "provenance": [],
      "authorship_tag": "ABX9TyN9KVtd0WVE03spYSDomyHL",
      "include_colab_link": true
    },
    "kernelspec": {
      "name": "python3",
      "display_name": "Python 3"
    },
    "language_info": {
      "name": "python"
    }
  },
  "cells": [
    {
      "cell_type": "markdown",
      "metadata": {
        "id": "view-in-github",
        "colab_type": "text"
      },
      "source": [
        "<a href=\"https://colab.research.google.com/github/AriwodolaWuraola/Data-cleaning-python-/blob/main/Assignment_By_Ariwodola_Wuraola_Data_Cleaning_ipynb.ipynb\" target=\"_parent\"><img src=\"https://colab.research.google.com/assets/colab-badge.svg\" alt=\"Open In Colab\"/></a>"
      ]
    },
    {
      "cell_type": "code",
      "execution_count": 49,
      "metadata": {
        "id": "_WMZqCOyn83k"
      },
      "outputs": [],
      "source": [
        "import pandas as pd"
      ]
    },
    {
      "cell_type": "code",
      "source": [
        "#load the dataset\n",
        "\n",
        "df = pd.read_csv('messy_data.csv')"
      ],
      "metadata": {
        "id": "OAV6z2JeqNjS"
      },
      "execution_count": 50,
      "outputs": []
    },
    {
      "cell_type": "code",
      "source": [
        "#check my dataset\n",
        "\n",
        "print(df.describe())\n",
        "\n",
        "\n"
      ],
      "metadata": {
        "colab": {
          "base_uri": "https://localhost:8080/"
        },
        "id": "1eJCq7dYqeNK",
        "outputId": "8affac82-a25f-4485-fa59-3792aad203be"
      },
      "execution_count": 51,
      "outputs": [
        {
          "output_type": "stream",
          "name": "stdout",
          "text": [
            "            TrnsnID       CusmrID       ProdtID        Qutity         Prize  \\\n",
            "count  10100.000000  10100.000000  10100.000000  10100.000000  10100.000000   \n",
            "mean    5000.546634    503.805050   1049.607228      7.028119    102.397194   \n",
            "std     2886.964892    289.143863     28.931014      7.207902     56.429556   \n",
            "min        1.000000      1.000000   1000.000000     -5.000000      5.030000   \n",
            "25%     2504.750000    255.000000   1024.000000      1.000000     54.095000   \n",
            "50%     4998.500000    507.500000   1050.000000      7.000000    102.080000   \n",
            "75%     7502.250000    759.000000   1074.000000     13.000000    151.647500   \n",
            "max    10000.000000    999.000000   1099.000000     19.000000    199.980000   \n",
            "\n",
            "           TtlSales     CusterAge  \n",
            "count  10100.000000  10100.000000  \n",
            "mean    2521.484192     44.456832  \n",
            "std     1431.601571     32.037813  \n",
            "min       20.460000    -10.000000  \n",
            "25%     1288.860000     17.000000  \n",
            "50%     2520.870000     45.000000  \n",
            "75%     3755.747500     73.000000  \n",
            "max     4999.310000     99.000000  \n"
          ]
        }
      ]
    },
    {
      "cell_type": "code",
      "source": [
        "#9.Rename columns\n",
        "\n",
        "\n",
        "df = df.rename(columns={\n",
        "    'TrnsnID': 'TransactionID',\n",
        "    'Data': 'Date',\n",
        "    'CusmrID': 'CustomerID',\n",
        "    'ProdtID': 'ProductID',\n",
        "    'ProdtName': 'ProductName',\n",
        "    'Qutity': 'Quantity',\n",
        "    'Prize': 'Price',\n",
        "    'TtlSales': 'TotalSales',\n",
        "    'PaymentType': 'PaymentType',\n",
        "    'CusterAge': 'CustomerAge'})"
      ],
      "metadata": {
        "id": "ckCXxoUmyISO"
      },
      "execution_count": 52,
      "outputs": []
    },
    {
      "cell_type": "code",
      "source": [
        "# Print the DataFrame to verify column names\n",
        "\n",
        "\n",
        "print(df.head())"
      ],
      "metadata": {
        "colab": {
          "base_uri": "https://localhost:8080/"
        },
        "id": "aP3BqG0NyRR9",
        "outputId": "ba411afc-1c9d-4f5f-d08f-2e356965e10c"
      },
      "execution_count": 53,
      "outputs": [
        {
          "output_type": "stream",
          "name": "stdout",
          "text": [
            "   TransactionID        Date  CustomerID  ProductID ProductName  Quantity  \\\n",
            "0           7402  03/17/2026         991       1045       Boo E         9   \n",
            "1           5835  26-01-2035         741       1040      Book J        18   \n",
            "2           2123  05/26/2035         933       1062       Bok N         5   \n",
            "3           8789  28-02-2036         641       1060      Book I         6   \n",
            "4            305  19-04-2023         123       1058      Book B        15   \n",
            "\n",
            "    Price  TotalSales PaymentType  CustomerAge  \n",
            "0  167.72     2935.06         NaN           87  \n",
            "1  193.27     4386.52  debit card           69  \n",
            "2  126.39     1948.46        Cash           15  \n",
            "3   66.98     1757.26        Cash           22  \n",
            "4   33.63     2578.19        Cash           -1  \n"
          ]
        }
      ]
    },
    {
      "cell_type": "code",
      "source": [
        "#1. Duplicate Records\n",
        "\n",
        "\n",
        "df.drop_duplicates(inplace=True)"
      ],
      "metadata": {
        "id": "RFw2woFiv_vV"
      },
      "execution_count": 54,
      "outputs": []
    },
    {
      "cell_type": "code",
      "source": [
        "#check my dataset\n",
        "\n",
        "print(df.head())\n"
      ],
      "metadata": {
        "colab": {
          "base_uri": "https://localhost:8080/"
        },
        "id": "KNUpC0DnwMnG",
        "outputId": "e8b3a30a-51f0-4ea8-c0a9-d160fc7d3fbf"
      },
      "execution_count": 55,
      "outputs": [
        {
          "output_type": "stream",
          "name": "stdout",
          "text": [
            "   TransactionID        Date  CustomerID  ProductID ProductName  Quantity  \\\n",
            "0           7402  03/17/2026         991       1045       Boo E         9   \n",
            "1           5835  26-01-2035         741       1040      Book J        18   \n",
            "2           2123  05/26/2035         933       1062       Bok N         5   \n",
            "3           8789  28-02-2036         641       1060      Book I         6   \n",
            "4            305  19-04-2023         123       1058      Book B        15   \n",
            "\n",
            "    Price  TotalSales PaymentType  CustomerAge  \n",
            "0  167.72     2935.06         NaN           87  \n",
            "1  193.27     4386.52  debit card           69  \n",
            "2  126.39     1948.46        Cash           15  \n",
            "3   66.98     1757.26        Cash           22  \n",
            "4   33.63     2578.19        Cash           -1  \n"
          ]
        }
      ]
    },
    {
      "cell_type": "code",
      "source": [
        "#2.Check for Missing Values\n",
        "\n",
        "\n",
        "print(df.isnull().sum())"
      ],
      "metadata": {
        "colab": {
          "base_uri": "https://localhost:8080/"
        },
        "id": "V82-giQKzzOf",
        "outputId": "caa3adea-a417-4d90-c03b-1e702a5416df"
      },
      "execution_count": 56,
      "outputs": [
        {
          "output_type": "stream",
          "name": "stdout",
          "text": [
            "TransactionID       0\n",
            "Date                0\n",
            "CustomerID          0\n",
            "ProductID           0\n",
            "ProductName       994\n",
            "Quantity            0\n",
            "Price               0\n",
            "TotalSales          0\n",
            "PaymentType      1439\n",
            "CustomerAge         0\n",
            "dtype: int64\n"
          ]
        }
      ]
    },
    {
      "cell_type": "code",
      "source": [
        "#Impute missing categorical values with the mode (most common product name)\n",
        "\n",
        "\n",
        "most_common_product = df['ProductName'].mode()[0]\n",
        "df['ProductName'].fillna(most_common_product,inplace=True)"
      ],
      "metadata": {
        "id": "quWHSlfS0jEy"
      },
      "execution_count": 58,
      "outputs": []
    },
    {
      "cell_type": "code",
      "source": [
        "#Impute missing categorical values with the mode (most common value)\n",
        "\n",
        "\n",
        "most_common_payment = df['PaymentType'].mode()[0]\n",
        "df['PaymentType'].fillna(most_common_payment,inplace=True)"
      ],
      "metadata": {
        "id": "hRydIfAP06zw"
      },
      "execution_count": 59,
      "outputs": []
    },
    {
      "cell_type": "code",
      "source": [
        "#re-check for Missing Values\n",
        "\n",
        "\n",
        "print(df.isnull().sum())"
      ],
      "metadata": {
        "colab": {
          "base_uri": "https://localhost:8080/"
        },
        "id": "KScjccbd1DEI",
        "outputId": "8fa41190-72cd-4445-c476-f395b04f02f2"
      },
      "execution_count": 60,
      "outputs": [
        {
          "output_type": "stream",
          "name": "stdout",
          "text": [
            "TransactionID    0\n",
            "Date             0\n",
            "CustomerID       0\n",
            "ProductID        0\n",
            "ProductName      0\n",
            "Quantity         0\n",
            "Price            0\n",
            "TotalSales       0\n",
            "PaymentType      0\n",
            "CustomerAge      0\n",
            "dtype: int64\n"
          ]
        }
      ]
    },
    {
      "cell_type": "code",
      "source": [
        "#3.Ensure Consistent Date Format\n",
        "\n",
        "\n",
        "df['Date'] = pd.to_datetime(df['Date'])"
      ],
      "metadata": {
        "colab": {
          "base_uri": "https://localhost:8080/"
        },
        "id": "71z4HkC61LKV",
        "outputId": "0c231ceb-a83c-48c4-d193-c6c2580fb790"
      },
      "execution_count": 61,
      "outputs": [
        {
          "output_type": "stream",
          "name": "stderr",
          "text": [
            "<ipython-input-61-cbfdf8983b66>:4: UserWarning: Parsing dates in DD/MM/YYYY format when dayfirst=False (the default) was specified. This may lead to inconsistently parsed dates! Specify a format to ensure consistent parsing.\n",
            "  df['Date'] = pd.to_datetime(df['Date'])\n"
          ]
        }
      ]
    },
    {
      "cell_type": "code",
      "source": [
        "#3.Ensure consistent date format.\n",
        "#Convert 'Date' column to datetime with specified format\n",
        "\n",
        "\n",
        "df['Date'] = pd.to_datetime(df['Date'], format='%d/%m/%Y')\n"
      ],
      "metadata": {
        "id": "zWTbDNt310rG"
      },
      "execution_count": 63,
      "outputs": []
    },
    {
      "cell_type": "code",
      "source": [
        "#check the DataFrame to verify changes\n",
        "print(df.head())"
      ],
      "metadata": {
        "colab": {
          "base_uri": "https://localhost:8080/"
        },
        "id": "DJ2XDCKm2D1q",
        "outputId": "9eea8b2b-c51e-4a84-a0ed-894f23c5daea"
      },
      "execution_count": 64,
      "outputs": [
        {
          "output_type": "stream",
          "name": "stdout",
          "text": [
            "   TransactionID       Date  CustomerID  ProductID ProductName  Quantity  \\\n",
            "0           7402 2026-03-17         991       1045       Boo E         9   \n",
            "1           5835 2035-01-26         741       1040      Book J        18   \n",
            "2           2123 2035-05-26         933       1062       Bok N         5   \n",
            "3           8789 2036-02-28         641       1060      Book I         6   \n",
            "4            305 2023-04-19         123       1058      Book B        15   \n",
            "\n",
            "    Price  TotalSales PaymentType  CustomerAge  \n",
            "0  167.72     2935.06       Debit           87  \n",
            "1  193.27     4386.52  debit card           69  \n",
            "2  126.39     1948.46        Cash           15  \n",
            "3   66.98     1757.26        Cash           22  \n",
            "4   33.63     2578.19        Cash           -1  \n"
          ]
        }
      ]
    },
    {
      "cell_type": "code",
      "source": [
        "#4.Standardize Payment Type Names\n",
        "\n",
        "\n",
        "df['PaymentType'] = df['PaymentType'].replace({'Debit': 'Debit Card',\n",
        "                                               'Credit': 'Credit Card',\n",
        "                                               'Cash': 'Cash',\n",
        "                                               'paypal': 'Paypal'})\n"
      ],
      "metadata": {
        "id": "xbTn1fOt2v88"
      },
      "execution_count": 71,
      "outputs": []
    },
    {
      "cell_type": "code",
      "source": [
        "#check dataframe to verify changes\n",
        "\n",
        "print(df.head())\n",
        "\n"
      ],
      "metadata": {
        "colab": {
          "base_uri": "https://localhost:8080/"
        },
        "id": "PX_q404W4iCC",
        "outputId": "0b82e9a0-e1f2-42cc-ed42-039db05d55ed"
      },
      "execution_count": 72,
      "outputs": [
        {
          "output_type": "stream",
          "name": "stdout",
          "text": [
            "   TransactionID       Date  CustomerID  ProductID ProductName  Quantity  \\\n",
            "0           7402 2026-03-17         991       1045       Boo E         9   \n",
            "1           5835 2035-01-26         741       1040      Book J        18   \n",
            "2           2123 2035-05-26         933       1062       Bok N         5   \n",
            "3           8789 2036-02-28         641       1060      Book I         6   \n",
            "4            305 2023-04-19         123       1058      Book B        15   \n",
            "\n",
            "    Price  TotalSales PaymentType  CustomerAge  \n",
            "0  167.72     2935.06  Debit Card           87  \n",
            "1  193.27     4386.52  debit card           69  \n",
            "2  126.39     1948.46        Cash           15  \n",
            "3   66.98     1757.26        Cash           22  \n",
            "4   33.63     2578.19        Cash           -1  \n"
          ]
        }
      ]
    },
    {
      "cell_type": "code",
      "source": [
        "#5.Check for negative values\n",
        "#check for negative values in 'Price' column\n",
        "\n",
        "\n",
        "negative_price = df[df['Price'] < 0]\n",
        "\n",
        "\n",
        "if negative_price.empty:\n",
        "    print(\"No negative values found in 'Price' column.\")\n",
        "else:\n",
        "    print(\"Negative values found in 'Price' column:\")\n",
        "    print(negative_price)"
      ],
      "metadata": {
        "colab": {
          "base_uri": "https://localhost:8080/"
        },
        "id": "Gks7x5d07-_n",
        "outputId": "506a4e56-a96e-4f10-c679-b3eff88eef4a"
      },
      "execution_count": 85,
      "outputs": [
        {
          "output_type": "stream",
          "name": "stdout",
          "text": [
            "No negative values found in 'Price' column.\n"
          ]
        }
      ]
    },
    {
      "cell_type": "code",
      "source": [
        "#check for negative values in 'Quantity' column\n",
        "\n",
        "\n",
        "negative_Quantity = df[df['Quantity'] < 0]\n",
        "\n",
        "\n",
        "if negative_Quantity.empty:\n",
        "    print(\"No negative values found in 'Quantity' column.\")\n",
        "else:\n",
        "    print(\"Negative values found in 'Quantity' column:\")\n",
        "    print(negative_Quantity)"
      ],
      "metadata": {
        "colab": {
          "base_uri": "https://localhost:8080/"
        },
        "id": "uHYmZPhJ8Ocq",
        "outputId": "6f7297b9-c729-424e-c383-6d9991336330"
      },
      "execution_count": 77,
      "outputs": [
        {
          "output_type": "stream",
          "name": "stdout",
          "text": [
            "Negative values found in 'Quantity' column:\n",
            "       TransactionID       Date  CustomerID  ProductID ProductName  Quantity  \\\n",
            "26              4302 2029-12-10         566       1022       Bok N        -4   \n",
            "35              4429 2036-03-28         295       1057       Boo E        -4   \n",
            "47              2376 2023-12-17         243       1075      Book R        -2   \n",
            "50               316 2028-02-14         566       1012     Bookk H        -1   \n",
            "51              8616 2031-06-01         897       1004      Book M        -3   \n",
            "...              ...        ...         ...        ...         ...       ...   \n",
            "10075           7850 2034-12-25         678       1005      Book S        -5   \n",
            "10088            770 2036-05-30         835       1072      Book R        -5   \n",
            "10093            467 2032-05-06         564       1095       Boo E        -3   \n",
            "10094           6266 2034-01-06         804       1051       Boo E        -2   \n",
            "10096           5192 2025-08-16         334       1093       Bok N        -2   \n",
            "\n",
            "        Price  TotalSales  PaymentType  CustomerAge  \n",
            "26     111.77     3955.85  Credit Card           57  \n",
            "35     137.59     3152.31       Paypal           93  \n",
            "47     191.13     1900.42  Credit Card          -10  \n",
            "50     185.04     4526.58  Credit Card           99  \n",
            "51     151.38       62.12   debit card           23  \n",
            "...       ...         ...          ...          ...  \n",
            "10075  102.58     4466.09       Paypal           -7  \n",
            "10088   83.84      883.07   debit card           69  \n",
            "10093   50.77     4433.61         Cash           49  \n",
            "10094  190.93     4938.27   Debit Card           86  \n",
            "10096  186.16     1187.53       Paypal           50  \n",
            "\n",
            "[1939 rows x 10 columns]\n"
          ]
        }
      ]
    },
    {
      "cell_type": "code",
      "source": [
        "import numpy as np"
      ],
      "metadata": {
        "id": "oZU3Eqo9-Qwh"
      },
      "execution_count": 79,
      "outputs": []
    },
    {
      "cell_type": "code",
      "source": [
        "# Replace negative values in 'Quantity' column with 1\n",
        "\n",
        "\n",
        "df.loc[df['Quantity'] < 0, 'Quantity'] = 1 #Definitely customers bought at least 1 item hence why i changed the negative values in 'Quantity' column to 1"
      ],
      "metadata": {
        "id": "YhL_l4dM96KO"
      },
      "execution_count": 106,
      "outputs": []
    },
    {
      "cell_type": "code",
      "source": [
        "# Check for negative values in 'TotalSales' column\n",
        "\n",
        "\n",
        "negative_sales = df[df['TotalSales'] < 0]\n",
        "\n",
        "# Check if there are any negative values in 'TotalSales'\n",
        "if negative_sales.empty:\n",
        "    print(\"No negative values found in 'TotalSales' column.\")\n",
        "else:\n",
        "    print(\"Negative values found in 'TotalSales' column:\")\n",
        "    print(negative_sales)"
      ],
      "metadata": {
        "colab": {
          "base_uri": "https://localhost:8080/"
        },
        "id": "2MtTnE-b-oyU",
        "outputId": "4a34432b-692a-46bb-ead7-216181c9356b"
      },
      "execution_count": 82,
      "outputs": [
        {
          "output_type": "stream",
          "name": "stdout",
          "text": [
            "No negative values found in 'TotalSales' column.\n"
          ]
        }
      ]
    },
    {
      "cell_type": "code",
      "source": [
        "# Check for negative values in 'CustomerAge' column\n",
        "\n",
        "\n",
        "negative_age = df[df['CustomerAge'] < 0]\n",
        "\n",
        "# Check if there are any negative values in 'CustomerAge'\n",
        "if negative_age.empty:\n",
        "    print(\"No negative values found in 'CustomerAge' column.\")\n",
        "else:\n",
        "    print(\"Negative values found in 'CustomerAge' column:\")\n",
        "    print(negative_age)"
      ],
      "metadata": {
        "colab": {
          "base_uri": "https://localhost:8080/"
        },
        "id": "_Zbeuy3t-uKp",
        "outputId": "414825db-5b37-4e1c-d7a9-4d4a00da65b1"
      },
      "execution_count": 83,
      "outputs": [
        {
          "output_type": "stream",
          "name": "stdout",
          "text": [
            "Negative values found in 'CustomerAge' column:\n",
            "       TransactionID       Date  CustomerID  ProductID ProductName  Quantity  \\\n",
            "4                305 2023-04-19         123       1058      Book B      15.0   \n",
            "6               2996 2031-04-03         571       1086      Book D      15.0   \n",
            "30              4443 2026-01-09         294       1088      Book P       6.0   \n",
            "32              4534 2030-10-23         963       1052      Book L       3.0   \n",
            "47              2376 2023-12-17         243       1075      Book R       NaN   \n",
            "...              ...        ...         ...        ...         ...       ...   \n",
            "10065           7735 2026-10-11         620       1029       Bok N       NaN   \n",
            "10068           3006 2025-01-23         261       1011      Book I      15.0   \n",
            "10075           7850 2034-12-25         678       1005      Book S       NaN   \n",
            "10080           3386 2024-04-01         875       1036       Boo E      15.0   \n",
            "10098            861 2034-04-08         579       1014       Bok N      19.0   \n",
            "\n",
            "        Price  TotalSales  PaymentType  CustomerAge  \n",
            "4       33.63     2578.19         Cash           -1  \n",
            "6      176.27     4822.26         Cash           -4  \n",
            "30     137.01     2783.85   Debit Card           -8  \n",
            "32     152.39      761.66         Cash           -1  \n",
            "47     191.13     1900.42  Credit Card          -10  \n",
            "...       ...         ...          ...          ...  \n",
            "10065   50.81     1780.35  Credit Card           -5  \n",
            "10068  192.64     4645.92   Debit Card           -4  \n",
            "10075  102.58     4466.09       Paypal           -7  \n",
            "10080   70.55     4653.93   debit card           -1  \n",
            "10098  137.58     1708.87   Debit Card           -7  \n",
            "\n",
            "[974 rows x 10 columns]\n"
          ]
        }
      ]
    },
    {
      "cell_type": "code",
      "source": [
        "# Replace negative values in 'customerAge' column with 40\n",
        "\n",
        "\n",
        "df.loc[df['CustomerAge'] < 0, 'CustomerAge'] = 40 #customers age should range between age 18 to 80 hence the reason why i changed the negative values to 40."
      ],
      "metadata": {
        "id": "32WNOcUU-_Rp"
      },
      "execution_count": 107,
      "outputs": []
    },
    {
      "cell_type": "code",
      "source": [
        "#6.check for outliers\n",
        "\n",
        "import matplotlib.pyplot as plt"
      ],
      "metadata": {
        "id": "ekmjVXu2BVzu"
      },
      "execution_count": 88,
      "outputs": []
    },
    {
      "cell_type": "code",
      "source": [
        "# Define numerical columns to check for outliers\n",
        "\n",
        "numerical_columns = ['TotalSales', 'Price', 'Quantity', 'CustomerAge']\n",
        "\n",
        "# Create boxplots for each numerical column\n",
        "plt.figure(figsize=(12, 6))\n",
        "df[numerical_columns].boxplot()\n",
        "plt.title('Boxplot of Numerical Columns')\n",
        "plt.ylabel('Values')\n",
        "plt.xticks(rotation=45)"
      ],
      "metadata": {
        "colab": {
          "base_uri": "https://localhost:8080/",
          "height": 694
        },
        "id": "e_RtPppyF_U7",
        "outputId": "1acecbca-71e9-47e3-a826-c974c3e248e4"
      },
      "execution_count": 89,
      "outputs": [
        {
          "output_type": "execute_result",
          "data": {
            "text/plain": [
              "(array([1, 2, 3, 4]),\n",
              " [Text(1, 0, 'TotalSales'),\n",
              "  Text(2, 0, 'Price'),\n",
              "  Text(3, 0, 'Quantity'),\n",
              "  Text(4, 0, 'CustomerAge')])"
            ]
          },
          "metadata": {},
          "execution_count": 89
        },
        {
          "output_type": "display_data",
          "data": {
            "text/plain": [
              "<Figure size 1200x600 with 1 Axes>"
            ],
            "image/png": "[encoded data removed]"
          },
          "metadata": {}
        }
      ]
    },
    {
      "cell_type": "code",
      "source": [
        "#7. Typos and textual errors\n",
        "\n",
        "# Define corrections for typos in product names\n",
        "corrections = {\n",
        "    'Bok N': 'Book N',\n",
        "    'Boo E': 'Book E',\n",
        "    'Bookk H': 'Book H'\n",
        "}\n",
        "\n",
        "# Replace typos in 'ProductName' column\n",
        "df['ProductName'] = df['ProductName'].replace(corrections)\n",
        "\n",
        "# Print unique values in 'ProductName' column to verify corrections\n",
        "print(\"Unique product names after corrections:\")\n",
        "print(df['ProductName'].unique())"
      ],
      "metadata": {
        "colab": {
          "base_uri": "https://localhost:8080/"
        },
        "id": "3_LwYDirGLg_",
        "outputId": "3d6c06b2-e396-480c-b93d-74dd380737d2"
      },
      "execution_count": 93,
      "outputs": [
        {
          "output_type": "stream",
          "name": "stdout",
          "text": [
            "Unique product names after corrections:\n",
            "['Book E' 'Book J' 'Book N' 'Book I' 'Book B' 'Book D' 'Book P' 'Book M'\n",
            " 'Book O' 'Book T' 'Book A' 'Book G' 'Book R' 'Book L' 'Book K' 'Book F'\n",
            " 'Book H' 'Book S']\n"
          ]
        }
      ]
    },
    {
      "cell_type": "code",
      "source": [
        "#8. Check current data types of each column\n",
        "print(\"Current data types:\")\n",
        "print(df.dtypes)\n",
        "\n",
        "\n",
        "\n"
      ],
      "metadata": {
        "colab": {
          "base_uri": "https://localhost:8080/"
        },
        "id": "a8vZW2OdLMV2",
        "outputId": "06eabe06-9448-45f6-ded9-b6d385937c6f"
      },
      "execution_count": 95,
      "outputs": [
        {
          "output_type": "stream",
          "name": "stdout",
          "text": [
            "Current data types:\n",
            "TransactionID             int64\n",
            "Date             datetime64[ns]\n",
            "CustomerID                int64\n",
            "ProductID                 int64\n",
            "ProductName              object\n",
            "Quantity                float64\n",
            "Price                   float64\n",
            "TotalSales              float64\n",
            "PaymentType              object\n",
            "CustomerAge             float64\n",
            "dtype: object\n"
          ]
        }
      ]
    },
    {
      "cell_type": "code",
      "source": [
        "# Convert 'Quantity' column to integers (i already replaced negative values with NaN)\n",
        "df['Quantity'] = df['Quantity'].astype(float).astype('Int64')\n",
        "\n"
      ],
      "metadata": {
        "id": "bKjOvyWONvQo"
      },
      "execution_count": 96,
      "outputs": []
    },
    {
      "cell_type": "code",
      "source": [
        "# Verify the updated data type\n",
        "print(\"\\nUpdated data types:\")\n",
        "print(df.dtypes)"
      ],
      "metadata": {
        "colab": {
          "base_uri": "https://localhost:8080/"
        },
        "id": "cU45zV8EN87Z",
        "outputId": "2c30e066-ab0c-4335-b034-ebb7f05c466d"
      },
      "execution_count": 97,
      "outputs": [
        {
          "output_type": "stream",
          "name": "stdout",
          "text": [
            "\n",
            "Updated data types:\n",
            "TransactionID             int64\n",
            "Date             datetime64[ns]\n",
            "CustomerID                int64\n",
            "ProductID                 int64\n",
            "ProductName              object\n",
            "Quantity                  Int64\n",
            "Price                   float64\n",
            "TotalSales              float64\n",
            "PaymentType              object\n",
            "CustomerAge             float64\n",
            "dtype: object\n"
          ]
        }
      ]
    },
    {
      "cell_type": "code",
      "source": [
        "#Convert columns to the appropriate data types\n",
        "#For columns not involved in calculations, convert to integers or strings\n",
        "df['TransactionID'] = df['TransactionID'].astype(int)\n",
        "df['Date'] = pd.to_datetime(df['Date'])  # Convert 'Date' column to datetime\n",
        "df['CustomerID'] = df['CustomerID'].astype(int)\n",
        "df['ProductID'] = df['ProductID'].astype(int)\n",
        "df['ProductName'] = df['ProductName'].astype(str)  # Convert 'ProductName' to string\n",
        "df['Quantity'] = df['Quantity'].astype('Int64')\n",
        "df['Price'] = df['Price'].astype(float)  # Convert 'Price' to float\n",
        "df['TotalSales'] = df['TotalSales'].astype(float)  # Convert 'TotalSales' to float\n",
        "df['PaymentType'] = df['PaymentType'].astype(str)  # Convert 'PaymentType' to string\n",
        "df['CustomerAge'] = df['CustomerAge'].astype(float).astype('Int64')"
      ],
      "metadata": {
        "id": "e72kXG6BOanh"
      },
      "execution_count": 103,
      "outputs": []
    },
    {
      "cell_type": "code",
      "source": [
        "# Verify the updated data types\n",
        "\n",
        "print(\"\\nUpdated data types:\")\n",
        "print(df.dtypes)"
      ],
      "metadata": {
        "colab": {
          "base_uri": "https://localhost:8080/"
        },
        "id": "jqZ-mpFOPgSe",
        "outputId": "4ea9b774-f262-4c9d-a580-64e4a598604f"
      },
      "execution_count": 104,
      "outputs": [
        {
          "output_type": "stream",
          "name": "stdout",
          "text": [
            "\n",
            "Updated data types:\n",
            "TransactionID             int64\n",
            "Date             datetime64[ns]\n",
            "CustomerID                int64\n",
            "ProductID                 int64\n",
            "ProductName              object\n",
            "Quantity                  Int64\n",
            "Price                   float64\n",
            "TotalSales              float64\n",
            "PaymentType              object\n",
            "CustomerAge               Int64\n",
            "dtype: object\n"
          ]
        }
      ]
    }
  ]
}